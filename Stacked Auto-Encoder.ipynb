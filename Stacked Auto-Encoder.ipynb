{
 "cells": [
  {
   "cell_type": "markdown",
   "metadata": {},
   "source": [
    "# GP CODES \n"
   ]
  },
  {
   "cell_type": "code",
   "execution_count": 1,
   "metadata": {},
   "outputs": [],
   "source": [
    "import pandas as pd\n",
    "import numpy as np\n",
    "import tensorflow as tf\n",
    "from tensorflow import keras"
   ]
  },
  {
   "cell_type": "code",
   "execution_count": 2,
   "metadata": {},
   "outputs": [
    {
     "name": "stdout",
     "output_type": "stream",
     "text": [
      "[[ 1  2  3  1  2  3]\n",
      " [ 4  5  6  4  5  6]\n",
      " [ 1  1  2  1  1  2]\n",
      " [ 2  2  8  2  2  8]\n",
      " [ 5  7 12  5  7 12]\n",
      " [12 15  7 12 15  7]\n",
      " [ 8 10  4  8 10  4]]\n"
     ]
    }
   ],
   "source": [
    "points = np.array([[1, 2, 3,1, 2, 3],\n",
    "                   [4, 5, 6, 4, 5, 6],\n",
    "                   [1, 1, 2, 1, 1, 2],\n",
    "                   [2, 2, 8, 2, 2, 8],\n",
    "                   [5, 7, 12,5, 7, 12],\n",
    "                   [12, 15, 7,12, 15, 7],\n",
    "                   [8, 10, 4,8, 10, 4] ])\n",
    "\n",
    "print(points)\n"
   ]
  },
  {
   "cell_type": "code",
   "execution_count": 3,
   "metadata": {},
   "outputs": [],
   "source": [
    "\n",
    "encoder = keras.models.Sequential([keras.layers.Dense(4, input_shape=[6]),\n",
    "                                   keras.layers.Dense(2, input_shape=[4])])\n",
    "\n",
    "decoder = keras.models.Sequential([keras.layers.Dense(4, input_shape=[2]),\n",
    "                                   keras.layers.Dense(6, input_shape=[4])])"
   ]
  },
  {
   "cell_type": "code",
   "execution_count": 4,
   "metadata": {},
   "outputs": [],
   "source": [
    "ae = keras.models.Sequential([encoder, decoder])\n",
    "ae.compile(loss=\"mse\", optimizer=keras.optimizers.SGD(lr=0.001))\n",
    "\n",
    "X_train = points"
   ]
  },
  {
   "cell_type": "code",
   "execution_count": null,
   "metadata": {},
   "outputs": [
    {
     "name": "stdout",
     "output_type": "stream",
     "text": [
      "Train on 7 samples\n",
      "Epoch 1/5000\n"
     ]
    }
   ],
   "source": [
    "history = ae.fit(X_train, X_train, epochs=5000)\n",
    "codings = encoder.predict(X_train)\n",
    "print(codings)"
   ]
  },
  {
   "cell_type": "code",
   "execution_count": null,
   "metadata": {},
   "outputs": [],
   "source": []
  }
 ],
 "metadata": {
  "kernelspec": {
   "display_name": "Python 3",
   "language": "python",
   "name": "python3"
  },
  "language_info": {
   "codemirror_mode": {
    "name": "ipython",
    "version": 3
   },
   "file_extension": ".py",
   "mimetype": "text/x-python",
   "name": "python",
   "nbconvert_exporter": "python",
   "pygments_lexer": "ipython3",
   "version": "3.8.5"
  }
 },
 "nbformat": 4,
 "nbformat_minor": 4
}
